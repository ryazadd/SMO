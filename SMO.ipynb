{
 "cells": [
  {
   "cell_type": "code",
   "execution_count": 124,
   "metadata": {},
   "outputs": [],
   "source": [
    "import numpy as np\n",
    "import matplotlib.pyplot as plt\n",
    "import math\n",
    "import random\n",
    "from statistics import mean\n",
    "import pandas as pd"
   ]
  },
  {
   "cell_type": "code",
   "execution_count": 3,
   "metadata": {},
   "outputs": [],
   "source": [
    "# генерация случайного вектора размерности size со значениями в интервале [0,lam)\n",
    "def gen_index(lam,size):\n",
    "    return np.random.randint(0,lam,size)"
   ]
  },
  {
   "cell_type": "code",
   "execution_count": 4,
   "metadata": {},
   "outputs": [],
   "source": [
    "# np.random.randint(0,5,10)"
   ]
  },
  {
   "cell_type": "code",
   "execution_count": 12,
   "metadata": {},
   "outputs": [
    {
     "name": "stdout",
     "output_type": "stream",
     "text": [
      "0.8334405144694534\n"
     ]
    }
   ],
   "source": [
    "def func_p0(lam, c, mu):\n",
    "    sum = 0\n",
    "    for i in range(c+1):\n",
    "        sum+=pow(lam,i)/(pow(c,i)*pow(mu,i))\n",
    "    return sum\n",
    "print(1/func_p0(4,4,6))"
   ]
  },
  {
   "cell_type": "code",
   "execution_count": 240,
   "metadata": {},
   "outputs": [
    {
     "name": "stdout",
     "output_type": "stream",
     "text": [
      "0.041666666666666664\n"
     ]
    }
   ],
   "source": [
    "# Задача массового обслуживания с N аппаратами и возможностью совместного обслуживания заявок аппаратами, нет очереди\n",
    "\n",
    "# количество каналов\n",
    "n = 4\n",
    "\n",
    "lam = 4 # интенсивность поступления заявок\n",
    "mu = 6 # интенсивность обработки заявок\n",
    "\n",
    "time_0 = 0.0 # начало отсчета\n",
    "time_1 = 10.0 # конец времени\n",
    "time_h = 0.001 # шаг\n",
    "kol_time = math.floor((time_1-time_0)/time_h-1) #количество точек\n",
    "index_r = 0\n",
    "# Среднее время обслуживания в минутах\n",
    "handle_time = 1/(n*mu)\n",
    "print(handle_time)\n",
    "quantity_experiments = 1000\n",
    "\n",
    "# рассматриваем промежуток в 5 секунд\n",
    "# пусть у нас есть 4 канала, каждая заявка приходит в случайное время и длится случайное количество времени\n",
    "# количество заявок в рассматриваемый промежуток времени \n",
    "minutes_for_model = 100\n",
    "matrix_active =  np.zeros(kol_time+1)\n",
    "tmp = 0\n",
    "for vse in range(quantity_experiments):\n",
    "\n",
    "    # Массив со временами поступления заявок в минутах отсчитывамых с нуля\n",
    "    requests = []\n",
    "    last_request_time = 0.0\n",
    "    for minute in range(0, minutes_for_model):\n",
    "        rnd = random.expovariate(lam)\n",
    "        last_request_time += rnd\n",
    "        requests.append(last_request_time)\n",
    "\n",
    "    requests.sort()  # Выставим звонки в порядке возрастания\n",
    "    handles = []  # Время необходимое для обработки каждой из поступивших заявок\n",
    "    lambd = 1/handle_time # Интенсивность потока для времени разговора\n",
    "\n",
    "    for request in requests:\n",
    "        rnd = random.expovariate(lambd)\n",
    "        handles.append(rnd)\n",
    "    count_active = [0] # np.array([0]) # начальное количество активных заявок\n",
    "    index_r = 0\n",
    "    for i in np.arange(time_0+time_h,time_1,time_h):\n",
    "        act = 0 # на каждом интервале заново считаем количество активных заявок\n",
    "        index_act = [] # вектор номеров активных заявок\n",
    "        efficiency = 0 # доля заявки, приходящаяся на каждый канал\n",
    "\n",
    "        while i >= requests[tmp]: # может тут while? потому что вдруг в один интервал, в очень близое время, но по очереди придут 2 заявки. Понятно, что сначала разберемся с одной. Но переходить сразу после этого на другой промежуток времени, не проверив следующие заявки, не очень правильно\n",
    "            # сюда мы заходим, если заявки поступили до текущего момента времени i.\n",
    "            # Создаем вектор эффективностей, активных заявок и их количества.\n",
    "            if handles[tmp]>0: \n",
    "                # если время до завершения работы над заявкой еще не закончилось, то работаем над ней\n",
    "                # 1) Если все n каналов свободны, т.е. нет еще активных\n",
    "                if act == 0:\n",
    "                    act += 1 \n",
    "                    # теперь в работе будет одна заявка, при этом:\n",
    "                    efficiency = 1/n \n",
    "                    # эффективность каждого канала = 1/n.\n",
    "                    index_act.append(tmp)\n",
    "                # 2) Если уже все n каналов работают над n заявками и поступает следующая, то она игнорится, не выполняется, поэтому сразу ее откидываем, приравнивая время на ее выполнение к 0\n",
    "                if act == n:\n",
    "                    # act и index_act останутся прежними\n",
    "                    efficiency = 1 \n",
    "                    # Каждый канал работает над своей заявкой\n",
    "                    handles[tmp] = 0 \n",
    "                    # Обнуляем время поступившей заявки, над которой работать не будем\n",
    "                # 3) В работе уже имеется какое-то количество заявок, не один из крайних случаев\n",
    "                if act > 1 and act < n:\n",
    "                    act += 1 \n",
    "                    # заявок станет на одну больше\n",
    "                    index_act.append(tmp) \n",
    "                    # записываем номер новой заявки\n",
    "                    efficiency = act/n\n",
    "            tmp += 1\n",
    "            # конец while\n",
    "\n",
    "        # размерность вектора индексов активных заявок должна совпасть с их количеством\n",
    "        # Теперь у нас есть список активных заявок в данный период. Среди них уже распределяем каналы по заявкам в случайном порядке и можем вычислить на основе нее сколько на данном промежутке времени отработаем по каждой из активных заявок и вычтем это время из оставшегося с предыдущих этапов\n",
    "        if act != 0:\n",
    "            chan = gen_index(act,n) \n",
    "            # генерируем случайное распределение заявок по каналам\n",
    "            while len(np.unique(chan)) != act: \n",
    "                # на случай, если будут распределены не все заявки\n",
    "                chan = gen_index(act,n)\n",
    "            unique, count = np.unique(chan, return_counts=True)\n",
    "            work_time_i = count*efficiency*time_h \n",
    "            handles= np.array(handles)\n",
    "            handles[index_act] -= work_time_i \n",
    "            # вектор оставшегося времени обслуживания всех заявок изменяется для активных. Если станет <=0,то заявка считается выполненной\n",
    "\n",
    "        # ищем теперь новый index_r, начиная с меньшего номера из тех, оставшееся время выполнения которых >0 для запуска следующего интервала времени\n",
    "        tmp = int(np.argwhere(handles > np.zeros(len(handles)))[0])\n",
    "        # теперь добавляем в вектор величину количества активных заявок на рассматриваемом маленьком интервале времени\n",
    "        count_active.append(act)\n",
    "    matrix_active = np.vstack([matrix_active,[count_active]])\n",
    "\n"
   ]
  },
  {
   "cell_type": "code",
   "execution_count": 241,
   "metadata": {},
   "outputs": [
    {
     "name": "stdout",
     "output_type": "stream",
     "text": [
      "   0     1     2     3     4     5     6     7     8     9     ...   9990  \\\n",
      "0   0.0   0.0   0.0   0.0   0.0   0.0   0.0   0.0   0.0   0.0  ...    0.0   \n",
      "1   0.0   0.0   0.0   0.0   0.0   0.0   0.0   0.0   0.0   0.0  ...    1.0   \n",
      "2   0.0   0.0   0.0   0.0   0.0   0.0   0.0   0.0   0.0   0.0  ...    0.0   \n",
      "3   0.0   0.0   0.0   0.0   0.0   0.0   0.0   0.0   0.0   0.0  ...    0.0   \n",
      "4   0.0   0.0   0.0   0.0   0.0   0.0   0.0   0.0   0.0   0.0  ...    0.0   \n",
      "\n",
      "   9991  9992  9993  9994  9995  9996  9997  9998  9999  \n",
      "0   0.0   0.0   0.0   0.0   0.0   0.0   0.0   0.0   0.0  \n",
      "1   1.0   1.0   1.0   1.0   1.0   1.0   1.0   1.0   1.0  \n",
      "2   0.0   0.0   0.0   0.0   0.0   0.0   1.0   1.0   1.0  \n",
      "3   0.0   0.0   0.0   0.0   0.0   0.0   0.0   0.0   0.0  \n",
      "4   0.0   0.0   0.0   0.0   0.0   0.0   0.0   0.0   0.0  \n",
      "\n",
      "[5 rows x 10000 columns]\n"
     ]
    }
   ],
   "source": [
    "matrix_active = matrix_active[1:]\n",
    "# print(len(matrix_active))\n",
    "table = pd.DataFrame(matrix_active)\n",
    "print(table.head())\n",
    "m0_list = []\n",
    "main_list = []\n",
    "# m1_list = []\n",
    "# m2_list = []\n",
    "# m3_list = []\n",
    "# m4_list = []\n",
    "for t in range(0,n+1): \n",
    "    for i in table.columns:\n",
    "        m0_list.append(np.sum(table[i].values == t)/quantity_experiments)\n",
    "    main_list.append(m0_list)\n",
    "    m0_list = []\n",
    "\n"
   ]
  },
  {
   "cell_type": "code",
   "execution_count": 242,
   "metadata": {},
   "outputs": [
    {
     "name": "stdout",
     "output_type": "stream",
     "text": [
      "5\n",
      "1\n",
      "2\n",
      "3\n",
      "4\n",
      "5\n"
     ]
    },
    {
     "data": {
      "image/png": "[encoded data removed]",
      "text/plain": [
       "<Figure size 432x288 with 1 Axes>"
      ]
     },
     "metadata": {
      "needs_background": "light"
     },
     "output_type": "display_data"
    }
   ],
   "source": [
    "count_ = 0\n",
    "print(len(main_list))\n",
    "for i in main_list:\n",
    "#     print(i)\n",
    "    plt.plot(np.arange(time_0,time_1,time_h), i, label = count_)\n",
    "    count_=count_+1\n",
    "    print(count_)\n",
    "plt.legend()\n",
    "plt.show()"
   ]
  }
 ],
 "metadata": {
  "kernelspec": {
   "display_name": "Python 3",
   "language": "python",
   "name": "python3"
  },
  "language_info": {
   "codemirror_mode": {
    "name": "ipython",
    "version": 3
   },
   "file_extension": ".py",
   "mimetype": "text/x-python",
   "name": "python",
   "nbconvert_exporter": "python",
   "pygments_lexer": "ipython3",
   "version": "3.7.1"
  }
 },
 "nbformat": 4,
 "nbformat_minor": 1
}
