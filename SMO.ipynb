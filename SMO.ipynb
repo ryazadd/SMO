{
 "cells": [
  {
   "cell_type": "code",
   "execution_count": 124,
   "metadata": {},
   "outputs": [],
   "source": [
    "import numpy as np\n",
    "import matplotlib.pyplot as plt\n",
    "import math\n",
    "import random\n",
    "from statistics import mean\n",
    "import pandas as pd"
   ]
  },
  {
   "cell_type": "code",
   "execution_count": 3,
   "metadata": {},
   "outputs": [],
   "source": [
    "# генерация случайного вектора размерности size со значениями в интервале [0,lam)\n",
    "def gen_index(lam,size):\n",
    "    return np.random.randint(0,lam,size)"
   ]
  },
  {
   "cell_type": "code",
   "execution_count": 12,
   "metadata": {},
   "outputs": [
    {
     "name": "stdout",
     "output_type": "stream",
     "text": [
      "0.8334405144694534\n"
     ]
    }
   ],
   "source": [
    "def func_p0(lam, c, mu):\n",
    "    sum = 0\n",
    "    for i in range(c+1):\n",
    "        sum+=pow(lam,i)/(pow(c,i)*pow(mu,i))\n",
    "    return sum\n",
    "print(1/func_p0(4,4,6))"
   ]
  },
  {
   "cell_type": "code",
   "execution_count": null,
   "metadata": {},
   "outputs": [
    {
     "name": "stdout",
     "output_type": "stream",
     "text": [
      "0.0625\n"
     ]
    }
   ],
   "source": [
    "# Задача массового обслуживания с N аппаратами и возможностью совместного обслуживания заявок аппаратами, нет очереди\n",
    "\n",
    "# количество каналов\n",
    "n = 4\n",
    "\n",
    "lam = 6 # интенсивность поступления заявок\n",
    "mu = 4 # интенсивность обработки заявок\n",
    "\n",
    "time_0 = 0.0 # начало отсчета\n",
    "time_1 = 5.0 # конец времени\n",
    "time_h = 0.01 # шаг\n",
    "kol_time = math.floor((time_1-time_0)/time_h-1) #количество точек\n",
    "index_r = 0\n",
    "# Среднее время обслуживания в минутах\n",
    "handle_time = 1/(n*mu)\n",
    "print(handle_time)\n",
    "quantity_experiments = 1000\n",
    "\n",
    "# рассматриваем промежуток в 5 секунд\n",
    "# пусть у нас есть 4 канала, каждая заявка приходит в случайное время и длится случайное количество времени\n",
    "# количество заявок в рассматриваемый промежуток времени \n",
    "minutes_for_model = 100\n",
    "matrix_active =  np.zeros(kol_time+1)\n",
    "tmp = 0\n",
    "for vse in range(quantity_experiments):\n",
    "\n",
    "    # Массив со временами поступления заявок в минутах отсчитывамых с нуля\n",
    "    requests = []\n",
    "    last_request_time = 0.0\n",
    "    for minute in range(0, minutes_for_model):\n",
    "        rnd = random.expovariate(lam)\n",
    "        last_request_time += rnd\n",
    "        requests.append(last_request_time)\n",
    "\n",
    "    requests.sort()  # Выставим звонки в порядке возрастания\n",
    "    handles = []  # Время необходимое для обработки каждой из поступивших заявок\n",
    "    lambd = 1/handle_time # Интенсивность потока для времени разговора\n",
    "\n",
    "    for request in requests:\n",
    "        rnd = random.expovariate(lambd)\n",
    "        handles.append(rnd)\n",
    "    count_active = [0] # np.array([0]) # начальное количество активных заявок\n",
    "    index_r = 0\n",
    "    for i in np.arange(time_0+time_h,time_1,time_h):\n",
    "        act = 0 # на каждом интервале заново считаем количество активных заявок\n",
    "        index_act = [] # вектор номеров активных заявок\n",
    "        efficiency = 0 # доля заявки, приходящаяся на каждый канал\n",
    "\n",
    "        while i >= requests[tmp]: # может тут while? потому что вдруг в один интервал, в очень близое время, но по очереди придут 2 заявки. Понятно, что сначала разберемся с одной. Но переходить сразу после этого на другой промежуток времени, не проверив следующие заявки, не очень правильно\n",
    "            # сюда мы заходим, если заявки поступили до текущего момента времени i.\n",
    "            # Создаем вектор эффективностей, активных заявок и их количества.\n",
    "            if handles[tmp]>0: \n",
    "                # если время до завершения работы над заявкой еще не закончилось, то работаем над ней\n",
    "                # 1) Если все n каналов свободны, т.е. нет еще активных\n",
    "                if act == 0:\n",
    "                    act += 1 \n",
    "                    # теперь в работе будет одна заявка, при этом:\n",
    "                    efficiency = 1/n \n",
    "                    # эффективность каждого канала = 1/n.\n",
    "                    index_act.append(tmp)\n",
    "               \n",
    "                if act == n:\n",
    "                    # act и index_act останутся прежними\n",
    "                    efficiency = 1 \n",
    "                    # Каждый канал работает над своей заявкой\n",
    "                    handles[tmp] = 0 \n",
    "\n",
    "                if act > 0 and act < n:\n",
    "                    act += 1 \n",
    "                    # заявок станет на одну больше\n",
    "                    index_act.append(tmp) \n",
    "                    # записываем номер новой заявки\n",
    "                    efficiency = act/n\n",
    "            tmp += 1\n",
    "            \n",
    "            if act != 0:\n",
    "                chan = gen_index(act,n) \n",
    "            # генерируем случайное распределение заявок по каналам\n",
    "            while len(np.unique(chan)) != act: \n",
    "                # на случай, если будут распределены не все заявки\n",
    "                chan = gen_index(act,n)\n",
    "            unique, count = np.unique(chan, return_counts=True)\n",
    "            work_time_i = count*efficiency*time_h \n",
    "            handles= np.array(handles)\n",
    "            handles[index_act] -= work_time_i \n",
    "           \n",
    "        tmp = int(np.argwhere(handles > np.zeros(len(handles)))[0])       \n",
    "        count_active.append(act)\n",
    "    matrix_active = np.vstack([matrix_active,[count_active]])"
   ]
  },
  {
   "cell_type": "code",
   "execution_count": 426,
   "metadata": {},
   "outputs": [],
   "source": [
    "matrix_active = matrix_active[1:]\n",
    "table = pd.DataFrame(matrix_active)\n",
    "m0_list = []\n",
    "main_list = []\n",
    "for t in range(0,n+1): \n",
    "    for i in table.columns:\n",
    "        m0_list.append(np.sum(table[i].values == t)/quantity_experiments)\n",
    "    main_list.append(m0_list)\n",
    "    m0_list = []\n",
    "\n"
   ]
  },
  {
   "cell_type": "code",
   "execution_count": 427,
   "metadata": {},
   "outputs": [
    {
     "name": "stdout",
     "output_type": "stream",
     "text": [
      "5\n"
     ]
    },
    {
     "data": {
      "image/png": "[encoded data removed]",
      "text/plain": [
       "<Figure size 432x288 with 1 Axes>"
      ]
     },
     "metadata": {
      "needs_background": "light"
     },
     "output_type": "display_data"
    }
   ],
   "source": [
    "count_ = 0\n",
    "print(len(main_list))\n",
    "for i in main_list:\n",
    "    plt.plot(np.arange(time_0,time_1,time_h), i, label = count_)\n",
    "    count_=count_+1\n",
    "plt.legend()\n",
    "plt.show()"
   ]
  }
 ],
 "metadata": {
  "kernelspec": {
   "display_name": "Python 3",
   "language": "python",
   "name": "python3"
  },
  "language_info": {
   "codemirror_mode": {
    "name": "ipython",
    "version": 3
   },
   "file_extension": ".py",
   "mimetype": "text/x-python",
   "name": "python",
   "nbconvert_exporter": "python",
   "pygments_lexer": "ipython3",
   "version": "3.7.1"
  }
 },
 "nbformat": 4,
 "nbformat_minor": 1
}
