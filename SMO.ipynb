{
 "cells": [
  {
   "cell_type": "code",
   "execution_count": 1,
   "metadata": {},
   "outputs": [],
   "source": [
    "import numpy as np\n",
    "import matplotlib.pyplot as plt\n",
    "import random\n",
    "from statistics import mean"
   ]
  },
  {
   "cell_type": "code",
   "execution_count": 133,
   "metadata": {},
   "outputs": [],
   "source": [
    "def gen_index(lam,size):\n",
    "    return np.random.randint(0,lam,size)"
   ]
  },
  {
   "cell_type": "code",
   "execution_count": 134,
   "metadata": {},
   "outputs": [
    {
     "data": {
      "text/plain": [
       "array([2, 2, 3, 2])"
      ]
     },
     "execution_count": 134,
     "metadata": {},
     "output_type": "execute_result"
    }
   ],
   "source": [
    "gen_index(4,4)"
   ]
  },
  {
   "cell_type": "code",
   "execution_count": 47,
   "metadata": {},
   "outputs": [
    {
     "name": "stdout",
     "output_type": "stream",
     "text": [
      "5\n"
     ]
    }
   ],
   "source": [
    "cp = [10,53,100]\n",
    "queue = cp[1:]\n",
    "# print(queue)\n",
    "tmp = 9\n",
    "temm = np.array([1,2,0,3,9])\n",
    "print(np.sum(temm<=tmp))"
   ]
  },
  {
   "cell_type": "code",
   "execution_count": 85,
   "metadata": {},
   "outputs": [
    {
     "name": "stdout",
     "output_type": "stream",
     "text": [
      "[15  5 15 15 15]\n"
     ]
    }
   ],
   "source": [
    "y_t= np.array([4,5,1,2,4])\n",
    "y_t[np.argwhere(5>y_t)]=15\n",
    "print(y_t)"
   ]
  },
  {
   "cell_type": "code",
   "execution_count": 78,
   "metadata": {},
   "outputs": [],
   "source": [
    "def func_p0(lam, c, mu):\n",
    "    sum = 0\n",
    "    for i in range(c+1):\n",
    "        sum+=pow(lam,i)/(pow(c,i)*pow(mu,i))\n",
    "    return sum\n",
    "    "
   ]
  },
  {
   "cell_type": "code",
   "execution_count": 80,
   "metadata": {},
   "outputs": [
    {
     "name": "stdout",
     "output_type": "stream",
     "text": [
      "0.8334405144694534\n"
     ]
    }
   ],
   "source": [
    "print(1/func_p0(4,4,6))\n"
   ]
  },
  {
   "cell_type": "code",
   "execution_count": 145,
   "metadata": {},
   "outputs": [
    {
     "name": "stdout",
     "output_type": "stream",
     "text": [
      "0.041666666666666664\n",
      "[0.5156331843697681, 0.5958306922626194, 1.118966391552118, 1.400123407026506, 1.4927851947134942, 1.5917349978330624, 1.7317415640650282, 2.029628950237361]\n",
      "100 100\n"
     ]
    },
    {
     "ename": "ValueError",
     "evalue": "0 is not in list",
     "output_type": "error",
     "traceback": [
      "\u001b[1;31m---------------------------------------------------------------------------\u001b[0m",
      "\u001b[1;31mValueError\u001b[0m                                Traceback (most recent call last)",
      "\u001b[1;32m<ipython-input-145-1f954f66316d>\u001b[0m in \u001b[0;36m<module>\u001b[1;34m\u001b[0m\n\u001b[0;32m     49\u001b[0m             \u001b[0mtt\u001b[0m \u001b[1;33m=\u001b[0m \u001b[0munique\u001b[0m\u001b[1;33m.\u001b[0m\u001b[0mtolist\u001b[0m\u001b[1;33m(\u001b[0m\u001b[1;33m)\u001b[0m\u001b[1;33m\u001b[0m\u001b[1;33m\u001b[0m\u001b[0m\n\u001b[0;32m     50\u001b[0m             \u001b[1;32mfor\u001b[0m \u001b[0mk\u001b[0m \u001b[1;32min\u001b[0m \u001b[0mrange\u001b[0m\u001b[1;33m(\u001b[0m\u001b[0mn\u001b[0m\u001b[1;33m)\u001b[0m\u001b[1;33m:\u001b[0m\u001b[1;33m\u001b[0m\u001b[1;33m\u001b[0m\u001b[0m\n\u001b[1;32m---> 51\u001b[1;33m                 \u001b[1;32mif\u001b[0m \u001b[0mtt\u001b[0m\u001b[1;33m.\u001b[0m\u001b[0mindex\u001b[0m\u001b[1;33m(\u001b[0m\u001b[0mk\u001b[0m\u001b[1;33m)\u001b[0m\u001b[1;33m>\u001b[0m\u001b[1;36m0\u001b[0m\u001b[1;33m:\u001b[0m\u001b[1;33m\u001b[0m\u001b[1;33m\u001b[0m\u001b[0m\n\u001b[0m\u001b[0;32m     52\u001b[0m                     \u001b[0mchannels\u001b[0m\u001b[1;33m[\u001b[0m\u001b[0mk\u001b[0m\u001b[1;33m]\u001b[0m\u001b[1;33m=\u001b[0m\u001b[1;36m1\u001b[0m\u001b[1;33m/\u001b[0m\u001b[1;33m(\u001b[0m\u001b[0mn\u001b[0m\u001b[1;33m-\u001b[0m\u001b[0mcounts\u001b[0m\u001b[1;33m)\u001b[0m\u001b[1;33m\u001b[0m\u001b[1;33m\u001b[0m\u001b[0m\n\u001b[0;32m     53\u001b[0m             \u001b[0mprint\u001b[0m\u001b[1;33m(\u001b[0m\u001b[0munique\u001b[0m\u001b[1;33m,\u001b[0m \u001b[0mchannels\u001b[0m\u001b[1;33m)\u001b[0m\u001b[1;33m\u001b[0m\u001b[1;33m\u001b[0m\u001b[0m\n",
      "\u001b[1;31mValueError\u001b[0m: 0 is not in list"
     ]
    }
   ],
   "source": [
    "\n",
    "# Интенсивность поступления звонков в минуту\n",
    "lam = 4\n",
    "n = 4\n",
    "mu = 6\n",
    "# Среднее время обслуживания в минутах\n",
    "handle_time = 1/(n*mu)\n",
    "print(handle_time )\n",
    "\n",
    "# рассматриваем промежуток в 5 секунд\n",
    "# пусть у нас есть 4 канала, каждая заявка приходит в случайное время и длится случайное количество времени\n",
    "# количество заявок в рассматриваемый промежуток времени \n",
    "minutes_for_model = 100\n",
    "\n",
    "\n",
    "    \n",
    "\n",
    "# Массив со временами звонков в минутах отсчитывамых с нуля\n",
    "requests = []\n",
    "last_request_time = 0.0\n",
    "for minute in range(0, minutes_for_model):\n",
    "    rnd = random.expovariate(lam)\n",
    "    if(rnd <= 0.0):\n",
    "        print(\"rnd = \", str(rnd), \" < 0\")\n",
    "    last_request_time += rnd\n",
    "    requests.append(last_request_time)\n",
    "\n",
    "requests.sort()  # Выставим звонки в порядке возрастания\n",
    "print(requests[0:8])\n",
    "handles = []\n",
    "lambd = 1/handle_time # Интенсивность потока для времени разговора\n",
    "for request in requests:\n",
    "    rnd = random.expovariate(lambd)\n",
    "    handles.append(rnd)\n",
    "print(len(requests), len(handles))\n",
    "\n",
    "index_r = 0\n",
    "channels = np.zeros(n)\n",
    "time = []\n",
    "for i in np.arange(0.0,1.0,0.01):\n",
    "    if i>=requests[index_r]:\n",
    "        if np.sum(channels==0)==n:\n",
    "            channels[np.argwhere(channels == 0)]=1/n\n",
    "        if np.sum(channels==1)!=n:\n",
    "            index_change = gen_index(n,n)\n",
    "            unique, counts = np.unique(index_change, return_counts=True)\n",
    "#             print(unique, channels[unique])\n",
    "            channels[unique]=1/counts\n",
    "            channels[t for t in unique]\n",
    "            print(unique, channels)\n",
    "            \n",
    "            \n",
    "        \n",
    "        \n",
    "\n",
    "# reject_count = 0\n",
    "# for request in range(0, len(requests) - 2):\n",
    "#     handle_end = requests[request] + handles[request]  # Время окончания обслуживания\n",
    "#     # Если заявка поступила во время обслуживания предыдущей\n",
    "#     if requests[request + 1] < handle_end:\n",
    "#         reject_count += 1  # то ей отказано в обслуживании\n",
    "\n",
    "# reject_prob = reject_count / len(requests)\n",
    "# print(\"Вероятность отказа в обслуживании = \" + str(reject_prob))\n",
    "\n",
    "# all_time_of_work = (requests[-1] + handles[-1])\n",
    "\n",
    "# work_percent = sum(handles) / all_time_of_work\n",
    "# print(\"Нагрузка устройства обслуживания = \" + str(work_percent))\n",
    "\n",
    "# Среднее время пребывания заявки в системе равно времени обслуживания\n",
    "# (заявки начинают обслуживаться немедленно,\n",
    "#  заявки недообслуживаются и очередь отсутствует)\n",
    "avg_time = mean(handles)\n",
    "print(\"Среднее время пребывания заявки в системе = {} минут\".format(avg_time))\n",
    "\n",
    "print(\"=================================\")\n",
    "print(\"Минимальное время отбслуживания в минутах \" + str(min(handles)))\n",
    "print(\"Максимальное время отбслуживания в минутах \" + str(max(handles)))"
   ]
  },
  {
   "cell_type": "code",
   "execution_count": 95,
   "metadata": {},
   "outputs": [
    {
     "data": {
      "image/png": "[encoded data removed]",
      "text/plain": [
       "<Figure size 432x288 with 1 Axes>"
      ]
     },
     "metadata": {
      "needs_background": "light"
     },
     "output_type": "display_data"
    }
   ],
   "source": [
    "n = 4\n",
    "sec = 20\n",
    "lam = 4\n",
    "mu = 6\n",
    "p = lam/(mu*n)\n",
    "statistic = [[] for i in range(10000)]\n",
    "\n",
    "for stat in statistic:\n",
    "    request_time = gen_times(lam, size)\n",
    "            \n",
    "            \n",
    "\n",
    "final_stat = [[] for _ in np.unique(statistic)]\n",
    "for stat_sec in np.array(statistic).T:\n",
    "    for i in np.unique(statistic):\n",
    "        final_stat[i].append(np.sum(stat_sec==i) /\n",
    "                             len(stat_sec))\n",
    "for i, stat in enumerate(final_stat):\n",
    "    plt.plot(range(len(stat)), stat, label=\"{}\".format(np.unique(statistic)[i]))\n",
    "plt.legend()\n",
    "plt.show()"
   ]
  }
 ],
 "metadata": {
  "kernelspec": {
   "display_name": "Python 3",
   "language": "python",
   "name": "python3"
  },
  "language_info": {
   "codemirror_mode": {
    "name": "ipython",
    "version": 3
   },
   "file_extension": ".py",
   "mimetype": "text/x-python",
   "name": "python",
   "nbconvert_exporter": "python",
   "pygments_lexer": "ipython3",
   "version": "3.7.1"
  }
 },
 "nbformat": 4,
 "nbformat_minor": 2
}
